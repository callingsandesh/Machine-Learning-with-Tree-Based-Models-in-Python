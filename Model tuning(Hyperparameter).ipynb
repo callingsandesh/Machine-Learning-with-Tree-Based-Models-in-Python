{
 "cells": [
  {
   "cell_type": "code",
   "execution_count": 6,
   "id": "126a4f97",
   "metadata": {},
   "outputs": [],
   "source": [
    "import numpy as np\n",
    "import pandas as pd"
   ]
  },
  {
   "cell_type": "markdown",
   "id": "7578e491",
   "metadata": {},
   "source": [
    "## importing datasets"
   ]
  },
  {
   "cell_type": "code",
   "execution_count": 8,
   "id": "e8e8c1b5",
   "metadata": {},
   "outputs": [],
   "source": [
    "data = pd.read_csv('indian_liver_patient/indian_liver_patient_preprocessed.csv')"
   ]
  },
  {
   "cell_type": "code",
   "execution_count": 9,
   "id": "5634e0b5",
   "metadata": {},
   "outputs": [
    {
     "data": {
      "text/html": [
       "<div>\n",
       "<style scoped>\n",
       "    .dataframe tbody tr th:only-of-type {\n",
       "        vertical-align: middle;\n",
       "    }\n",
       "\n",
       "    .dataframe tbody tr th {\n",
       "        vertical-align: top;\n",
       "    }\n",
       "\n",
       "    .dataframe thead th {\n",
       "        text-align: right;\n",
       "    }\n",
       "</style>\n",
       "<table border=\"1\" class=\"dataframe\">\n",
       "  <thead>\n",
       "    <tr style=\"text-align: right;\">\n",
       "      <th></th>\n",
       "      <th>Unnamed: 0</th>\n",
       "      <th>Age_std</th>\n",
       "      <th>Total_Bilirubin_std</th>\n",
       "      <th>Direct_Bilirubin_std</th>\n",
       "      <th>Alkaline_Phosphotase_std</th>\n",
       "      <th>Alamine_Aminotransferase_std</th>\n",
       "      <th>Aspartate_Aminotransferase_std</th>\n",
       "      <th>Total_Protiens_std</th>\n",
       "      <th>Albumin_std</th>\n",
       "      <th>Albumin_and_Globulin_Ratio_std</th>\n",
       "      <th>Is_male_std</th>\n",
       "      <th>Liver_disease</th>\n",
       "    </tr>\n",
       "  </thead>\n",
       "  <tbody>\n",
       "    <tr>\n",
       "      <th>0</th>\n",
       "      <td>0</td>\n",
       "      <td>1.247403</td>\n",
       "      <td>-0.420320</td>\n",
       "      <td>-0.495414</td>\n",
       "      <td>-0.428870</td>\n",
       "      <td>-0.355832</td>\n",
       "      <td>-0.319111</td>\n",
       "      <td>0.293722</td>\n",
       "      <td>0.203446</td>\n",
       "      <td>-0.147390</td>\n",
       "      <td>0</td>\n",
       "      <td>1</td>\n",
       "    </tr>\n",
       "    <tr>\n",
       "      <th>1</th>\n",
       "      <td>1</td>\n",
       "      <td>1.062306</td>\n",
       "      <td>1.218936</td>\n",
       "      <td>1.423518</td>\n",
       "      <td>1.675083</td>\n",
       "      <td>-0.093573</td>\n",
       "      <td>-0.035962</td>\n",
       "      <td>0.939655</td>\n",
       "      <td>0.077462</td>\n",
       "      <td>-0.648461</td>\n",
       "      <td>1</td>\n",
       "      <td>1</td>\n",
       "    </tr>\n",
       "    <tr>\n",
       "      <th>2</th>\n",
       "      <td>2</td>\n",
       "      <td>1.062306</td>\n",
       "      <td>0.640375</td>\n",
       "      <td>0.926017</td>\n",
       "      <td>0.816243</td>\n",
       "      <td>-0.115428</td>\n",
       "      <td>-0.146459</td>\n",
       "      <td>0.478274</td>\n",
       "      <td>0.203446</td>\n",
       "      <td>-0.178707</td>\n",
       "      <td>1</td>\n",
       "      <td>1</td>\n",
       "    </tr>\n",
       "    <tr>\n",
       "      <th>3</th>\n",
       "      <td>3</td>\n",
       "      <td>0.815511</td>\n",
       "      <td>-0.372106</td>\n",
       "      <td>-0.388807</td>\n",
       "      <td>-0.449416</td>\n",
       "      <td>-0.366760</td>\n",
       "      <td>-0.312205</td>\n",
       "      <td>0.293722</td>\n",
       "      <td>0.329431</td>\n",
       "      <td>0.165780</td>\n",
       "      <td>1</td>\n",
       "      <td>1</td>\n",
       "    </tr>\n",
       "    <tr>\n",
       "      <th>4</th>\n",
       "      <td>4</td>\n",
       "      <td>1.679294</td>\n",
       "      <td>0.093956</td>\n",
       "      <td>0.179766</td>\n",
       "      <td>-0.395996</td>\n",
       "      <td>-0.295731</td>\n",
       "      <td>-0.177537</td>\n",
       "      <td>0.755102</td>\n",
       "      <td>-0.930414</td>\n",
       "      <td>-1.713237</td>\n",
       "      <td>1</td>\n",
       "      <td>1</td>\n",
       "    </tr>\n",
       "    <tr>\n",
       "      <th>...</th>\n",
       "      <td>...</td>\n",
       "      <td>...</td>\n",
       "      <td>...</td>\n",
       "      <td>...</td>\n",
       "      <td>...</td>\n",
       "      <td>...</td>\n",
       "      <td>...</td>\n",
       "      <td>...</td>\n",
       "      <td>...</td>\n",
       "      <td>...</td>\n",
       "      <td>...</td>\n",
       "      <td>...</td>\n",
       "    </tr>\n",
       "    <tr>\n",
       "      <th>574</th>\n",
       "      <td>578</td>\n",
       "      <td>0.938909</td>\n",
       "      <td>-0.452462</td>\n",
       "      <td>-0.495414</td>\n",
       "      <td>0.857336</td>\n",
       "      <td>-0.333977</td>\n",
       "      <td>-0.263863</td>\n",
       "      <td>-0.536763</td>\n",
       "      <td>-1.938290</td>\n",
       "      <td>-1.807188</td>\n",
       "      <td>1</td>\n",
       "      <td>0</td>\n",
       "    </tr>\n",
       "    <tr>\n",
       "      <th>575</th>\n",
       "      <td>579</td>\n",
       "      <td>-0.295067</td>\n",
       "      <td>-0.436391</td>\n",
       "      <td>-0.495414</td>\n",
       "      <td>-0.794596</td>\n",
       "      <td>-0.252021</td>\n",
       "      <td>-0.274222</td>\n",
       "      <td>-0.444487</td>\n",
       "      <td>0.077462</td>\n",
       "      <td>0.478949</td>\n",
       "      <td>1</td>\n",
       "      <td>1</td>\n",
       "    </tr>\n",
       "    <tr>\n",
       "      <th>576</th>\n",
       "      <td>580</td>\n",
       "      <td>0.445318</td>\n",
       "      <td>-0.404249</td>\n",
       "      <td>-0.459878</td>\n",
       "      <td>-0.190532</td>\n",
       "      <td>-0.180993</td>\n",
       "      <td>-0.212067</td>\n",
       "      <td>-0.075383</td>\n",
       "      <td>0.077462</td>\n",
       "      <td>0.165780</td>\n",
       "      <td>1</td>\n",
       "      <td>1</td>\n",
       "    </tr>\n",
       "    <tr>\n",
       "      <th>577</th>\n",
       "      <td>581</td>\n",
       "      <td>-0.850356</td>\n",
       "      <td>-0.323893</td>\n",
       "      <td>-0.353271</td>\n",
       "      <td>-0.441198</td>\n",
       "      <td>-0.284804</td>\n",
       "      <td>-0.270769</td>\n",
       "      <td>0.293722</td>\n",
       "      <td>0.329431</td>\n",
       "      <td>0.165780</td>\n",
       "      <td>1</td>\n",
       "      <td>1</td>\n",
       "    </tr>\n",
       "    <tr>\n",
       "      <th>578</th>\n",
       "      <td>582</td>\n",
       "      <td>-0.418465</td>\n",
       "      <td>-0.372106</td>\n",
       "      <td>-0.424343</td>\n",
       "      <td>-0.309701</td>\n",
       "      <td>-0.328514</td>\n",
       "      <td>-0.298393</td>\n",
       "      <td>0.755102</td>\n",
       "      <td>1.589276</td>\n",
       "      <td>1.731627</td>\n",
       "      <td>1</td>\n",
       "      <td>0</td>\n",
       "    </tr>\n",
       "  </tbody>\n",
       "</table>\n",
       "<p>579 rows × 12 columns</p>\n",
       "</div>"
      ],
      "text/plain": [
       "     Unnamed: 0   Age_std  Total_Bilirubin_std  Direct_Bilirubin_std  \\\n",
       "0             0  1.247403            -0.420320             -0.495414   \n",
       "1             1  1.062306             1.218936              1.423518   \n",
       "2             2  1.062306             0.640375              0.926017   \n",
       "3             3  0.815511            -0.372106             -0.388807   \n",
       "4             4  1.679294             0.093956              0.179766   \n",
       "..          ...       ...                  ...                   ...   \n",
       "574         578  0.938909            -0.452462             -0.495414   \n",
       "575         579 -0.295067            -0.436391             -0.495414   \n",
       "576         580  0.445318            -0.404249             -0.459878   \n",
       "577         581 -0.850356            -0.323893             -0.353271   \n",
       "578         582 -0.418465            -0.372106             -0.424343   \n",
       "\n",
       "     Alkaline_Phosphotase_std  Alamine_Aminotransferase_std  \\\n",
       "0                   -0.428870                     -0.355832   \n",
       "1                    1.675083                     -0.093573   \n",
       "2                    0.816243                     -0.115428   \n",
       "3                   -0.449416                     -0.366760   \n",
       "4                   -0.395996                     -0.295731   \n",
       "..                        ...                           ...   \n",
       "574                  0.857336                     -0.333977   \n",
       "575                 -0.794596                     -0.252021   \n",
       "576                 -0.190532                     -0.180993   \n",
       "577                 -0.441198                     -0.284804   \n",
       "578                 -0.309701                     -0.328514   \n",
       "\n",
       "     Aspartate_Aminotransferase_std  Total_Protiens_std  Albumin_std  \\\n",
       "0                         -0.319111            0.293722     0.203446   \n",
       "1                         -0.035962            0.939655     0.077462   \n",
       "2                         -0.146459            0.478274     0.203446   \n",
       "3                         -0.312205            0.293722     0.329431   \n",
       "4                         -0.177537            0.755102    -0.930414   \n",
       "..                              ...                 ...          ...   \n",
       "574                       -0.263863           -0.536763    -1.938290   \n",
       "575                       -0.274222           -0.444487     0.077462   \n",
       "576                       -0.212067           -0.075383     0.077462   \n",
       "577                       -0.270769            0.293722     0.329431   \n",
       "578                       -0.298393            0.755102     1.589276   \n",
       "\n",
       "     Albumin_and_Globulin_Ratio_std  Is_male_std  Liver_disease  \n",
       "0                         -0.147390            0              1  \n",
       "1                         -0.648461            1              1  \n",
       "2                         -0.178707            1              1  \n",
       "3                          0.165780            1              1  \n",
       "4                         -1.713237            1              1  \n",
       "..                              ...          ...            ...  \n",
       "574                       -1.807188            1              0  \n",
       "575                        0.478949            1              1  \n",
       "576                        0.165780            1              1  \n",
       "577                        0.165780            1              1  \n",
       "578                        1.731627            1              0  \n",
       "\n",
       "[579 rows x 12 columns]"
      ]
     },
     "execution_count": 9,
     "metadata": {},
     "output_type": "execute_result"
    }
   ],
   "source": [
    "data"
   ]
  },
  {
   "cell_type": "code",
   "execution_count": 10,
   "id": "4ae13ec9",
   "metadata": {},
   "outputs": [],
   "source": [
    "data.drop('Unnamed: 0',inplace=True,axis=1)"
   ]
  },
  {
   "cell_type": "markdown",
   "id": "51ad19e9",
   "metadata": {},
   "source": [
    "## SELECTING INDEPENDENT VARIABLES AND DEPENDENT VARIABLE"
   ]
  },
  {
   "cell_type": "code",
   "execution_count": 11,
   "id": "f8bf5e90",
   "metadata": {},
   "outputs": [],
   "source": [
    "X=data.drop('Liver_disease',axis=1)\n",
    "y=data['Liver_disease']"
   ]
  },
  {
   "cell_type": "code",
   "execution_count": 15,
   "id": "26a567f4",
   "metadata": {},
   "outputs": [],
   "source": [
    "from sklearn.preprocessing import StandardScaler\n",
    "from sklearn.compose import ColumnTransformer"
   ]
  },
  {
   "cell_type": "code",
   "execution_count": 26,
   "id": "3fb8ec3b",
   "metadata": {},
   "outputs": [],
   "source": [
    "standardscaler = StandardScaler()\n",
    "X_scaled=standardscaler.fit_transform(X.drop('Is_male_std',axis=1))\n"
   ]
  },
  {
   "cell_type": "code",
   "execution_count": 43,
   "id": "a805772b",
   "metadata": {},
   "outputs": [],
   "source": [
    "X_scaled=pd.concat([pd.DataFrame(X_scaled),X['Is_male_std']],axis=1)"
   ]
  },
  {
   "cell_type": "code",
   "execution_count": 44,
   "id": "fccf300b",
   "metadata": {},
   "outputs": [
    {
     "data": {
      "text/html": [
       "<div>\n",
       "<style scoped>\n",
       "    .dataframe tbody tr th:only-of-type {\n",
       "        vertical-align: middle;\n",
       "    }\n",
       "\n",
       "    .dataframe tbody tr th {\n",
       "        vertical-align: top;\n",
       "    }\n",
       "\n",
       "    .dataframe thead th {\n",
       "        text-align: right;\n",
       "    }\n",
       "</style>\n",
       "<table border=\"1\" class=\"dataframe\">\n",
       "  <thead>\n",
       "    <tr style=\"text-align: right;\">\n",
       "      <th></th>\n",
       "      <th>0</th>\n",
       "      <th>1</th>\n",
       "      <th>2</th>\n",
       "      <th>3</th>\n",
       "      <th>4</th>\n",
       "      <th>5</th>\n",
       "      <th>6</th>\n",
       "      <th>7</th>\n",
       "      <th>8</th>\n",
       "      <th>Is_male_std</th>\n",
       "    </tr>\n",
       "  </thead>\n",
       "  <tbody>\n",
       "    <tr>\n",
       "      <th>0</th>\n",
       "      <td>1.247403</td>\n",
       "      <td>-0.420320</td>\n",
       "      <td>-0.495414</td>\n",
       "      <td>-0.428870</td>\n",
       "      <td>-0.355832</td>\n",
       "      <td>-0.319111</td>\n",
       "      <td>0.293722</td>\n",
       "      <td>0.203446</td>\n",
       "      <td>-0.147390</td>\n",
       "      <td>0</td>\n",
       "    </tr>\n",
       "    <tr>\n",
       "      <th>1</th>\n",
       "      <td>1.062306</td>\n",
       "      <td>1.218936</td>\n",
       "      <td>1.423518</td>\n",
       "      <td>1.675083</td>\n",
       "      <td>-0.093573</td>\n",
       "      <td>-0.035962</td>\n",
       "      <td>0.939655</td>\n",
       "      <td>0.077462</td>\n",
       "      <td>-0.648461</td>\n",
       "      <td>1</td>\n",
       "    </tr>\n",
       "    <tr>\n",
       "      <th>2</th>\n",
       "      <td>1.062306</td>\n",
       "      <td>0.640375</td>\n",
       "      <td>0.926017</td>\n",
       "      <td>0.816243</td>\n",
       "      <td>-0.115428</td>\n",
       "      <td>-0.146459</td>\n",
       "      <td>0.478274</td>\n",
       "      <td>0.203446</td>\n",
       "      <td>-0.178707</td>\n",
       "      <td>1</td>\n",
       "    </tr>\n",
       "    <tr>\n",
       "      <th>3</th>\n",
       "      <td>0.815511</td>\n",
       "      <td>-0.372106</td>\n",
       "      <td>-0.388807</td>\n",
       "      <td>-0.449416</td>\n",
       "      <td>-0.366760</td>\n",
       "      <td>-0.312205</td>\n",
       "      <td>0.293722</td>\n",
       "      <td>0.329431</td>\n",
       "      <td>0.165780</td>\n",
       "      <td>1</td>\n",
       "    </tr>\n",
       "    <tr>\n",
       "      <th>4</th>\n",
       "      <td>1.679294</td>\n",
       "      <td>0.093956</td>\n",
       "      <td>0.179766</td>\n",
       "      <td>-0.395996</td>\n",
       "      <td>-0.295731</td>\n",
       "      <td>-0.177537</td>\n",
       "      <td>0.755102</td>\n",
       "      <td>-0.930414</td>\n",
       "      <td>-1.713237</td>\n",
       "      <td>1</td>\n",
       "    </tr>\n",
       "    <tr>\n",
       "      <th>...</th>\n",
       "      <td>...</td>\n",
       "      <td>...</td>\n",
       "      <td>...</td>\n",
       "      <td>...</td>\n",
       "      <td>...</td>\n",
       "      <td>...</td>\n",
       "      <td>...</td>\n",
       "      <td>...</td>\n",
       "      <td>...</td>\n",
       "      <td>...</td>\n",
       "    </tr>\n",
       "    <tr>\n",
       "      <th>574</th>\n",
       "      <td>0.938909</td>\n",
       "      <td>-0.452462</td>\n",
       "      <td>-0.495414</td>\n",
       "      <td>0.857336</td>\n",
       "      <td>-0.333977</td>\n",
       "      <td>-0.263863</td>\n",
       "      <td>-0.536763</td>\n",
       "      <td>-1.938290</td>\n",
       "      <td>-1.807188</td>\n",
       "      <td>1</td>\n",
       "    </tr>\n",
       "    <tr>\n",
       "      <th>575</th>\n",
       "      <td>-0.295067</td>\n",
       "      <td>-0.436391</td>\n",
       "      <td>-0.495414</td>\n",
       "      <td>-0.794596</td>\n",
       "      <td>-0.252021</td>\n",
       "      <td>-0.274222</td>\n",
       "      <td>-0.444487</td>\n",
       "      <td>0.077462</td>\n",
       "      <td>0.478949</td>\n",
       "      <td>1</td>\n",
       "    </tr>\n",
       "    <tr>\n",
       "      <th>576</th>\n",
       "      <td>0.445318</td>\n",
       "      <td>-0.404249</td>\n",
       "      <td>-0.459878</td>\n",
       "      <td>-0.190532</td>\n",
       "      <td>-0.180993</td>\n",
       "      <td>-0.212067</td>\n",
       "      <td>-0.075383</td>\n",
       "      <td>0.077462</td>\n",
       "      <td>0.165780</td>\n",
       "      <td>1</td>\n",
       "    </tr>\n",
       "    <tr>\n",
       "      <th>577</th>\n",
       "      <td>-0.850356</td>\n",
       "      <td>-0.323893</td>\n",
       "      <td>-0.353271</td>\n",
       "      <td>-0.441198</td>\n",
       "      <td>-0.284804</td>\n",
       "      <td>-0.270769</td>\n",
       "      <td>0.293722</td>\n",
       "      <td>0.329431</td>\n",
       "      <td>0.165780</td>\n",
       "      <td>1</td>\n",
       "    </tr>\n",
       "    <tr>\n",
       "      <th>578</th>\n",
       "      <td>-0.418465</td>\n",
       "      <td>-0.372106</td>\n",
       "      <td>-0.424343</td>\n",
       "      <td>-0.309701</td>\n",
       "      <td>-0.328514</td>\n",
       "      <td>-0.298393</td>\n",
       "      <td>0.755102</td>\n",
       "      <td>1.589276</td>\n",
       "      <td>1.731627</td>\n",
       "      <td>1</td>\n",
       "    </tr>\n",
       "  </tbody>\n",
       "</table>\n",
       "<p>579 rows × 10 columns</p>\n",
       "</div>"
      ],
      "text/plain": [
       "            0         1         2         3         4         5         6  \\\n",
       "0    1.247403 -0.420320 -0.495414 -0.428870 -0.355832 -0.319111  0.293722   \n",
       "1    1.062306  1.218936  1.423518  1.675083 -0.093573 -0.035962  0.939655   \n",
       "2    1.062306  0.640375  0.926017  0.816243 -0.115428 -0.146459  0.478274   \n",
       "3    0.815511 -0.372106 -0.388807 -0.449416 -0.366760 -0.312205  0.293722   \n",
       "4    1.679294  0.093956  0.179766 -0.395996 -0.295731 -0.177537  0.755102   \n",
       "..        ...       ...       ...       ...       ...       ...       ...   \n",
       "574  0.938909 -0.452462 -0.495414  0.857336 -0.333977 -0.263863 -0.536763   \n",
       "575 -0.295067 -0.436391 -0.495414 -0.794596 -0.252021 -0.274222 -0.444487   \n",
       "576  0.445318 -0.404249 -0.459878 -0.190532 -0.180993 -0.212067 -0.075383   \n",
       "577 -0.850356 -0.323893 -0.353271 -0.441198 -0.284804 -0.270769  0.293722   \n",
       "578 -0.418465 -0.372106 -0.424343 -0.309701 -0.328514 -0.298393  0.755102   \n",
       "\n",
       "            7         8  Is_male_std  \n",
       "0    0.203446 -0.147390            0  \n",
       "1    0.077462 -0.648461            1  \n",
       "2    0.203446 -0.178707            1  \n",
       "3    0.329431  0.165780            1  \n",
       "4   -0.930414 -1.713237            1  \n",
       "..        ...       ...          ...  \n",
       "574 -1.938290 -1.807188            1  \n",
       "575  0.077462  0.478949            1  \n",
       "576  0.077462  0.165780            1  \n",
       "577  0.329431  0.165780            1  \n",
       "578  1.589276  1.731627            1  \n",
       "\n",
       "[579 rows x 10 columns]"
      ]
     },
     "execution_count": 44,
     "metadata": {},
     "output_type": "execute_result"
    }
   ],
   "source": [
    "X_scaled"
   ]
  },
  {
   "cell_type": "code",
   "execution_count": 45,
   "id": "47306d9e",
   "metadata": {},
   "outputs": [],
   "source": [
    "from sklearn.model_selection import train_test_split\n",
    "\n",
    "X_train,X_test,y_train,y_test = train_test_split(X_scaled,y,test_size=0.2,random_state=10)"
   ]
  },
  {
   "cell_type": "code",
   "execution_count": 46,
   "id": "ad4f8d60",
   "metadata": {},
   "outputs": [
    {
     "data": {
      "text/plain": [
       "(463, 10)"
      ]
     },
     "execution_count": 46,
     "metadata": {},
     "output_type": "execute_result"
    }
   ],
   "source": [
    "X_train.shape"
   ]
  },
  {
   "cell_type": "code",
   "execution_count": 47,
   "id": "0ff02243",
   "metadata": {},
   "outputs": [
    {
     "data": {
      "text/plain": [
       "(116, 10)"
      ]
     },
     "execution_count": 47,
     "metadata": {},
     "output_type": "execute_result"
    }
   ],
   "source": [
    "X_test.shape"
   ]
  },
  {
   "cell_type": "code",
   "execution_count": 48,
   "id": "bd952c64",
   "metadata": {},
   "outputs": [
    {
     "data": {
      "text/plain": [
       "(116, 10)"
      ]
     },
     "execution_count": 48,
     "metadata": {},
     "output_type": "execute_result"
    }
   ],
   "source": [
    "X_test.shape"
   ]
  },
  {
   "cell_type": "markdown",
   "id": "aa184b80",
   "metadata": {},
   "source": [
    "# 1)Tuning Decision Tree Hyperparameter"
   ]
  },
  {
   "cell_type": "code",
   "execution_count": 50,
   "id": "0c293454",
   "metadata": {},
   "outputs": [],
   "source": [
    "from sklearn.tree import DecisionTreeClassifier"
   ]
  },
  {
   "cell_type": "code",
   "execution_count": 51,
   "id": "507a8dde",
   "metadata": {},
   "outputs": [],
   "source": [
    "SEED=1\n",
    "\n",
    "dt=DecisionTreeClassifier(random_state=SEED)"
   ]
  },
  {
   "cell_type": "code",
   "execution_count": 52,
   "id": "39f7d967",
   "metadata": {},
   "outputs": [],
   "source": [
    "# Define params_dt\n",
    "params_dt = {'max_depth':[2,3,4],'min_samples_leaf':[0.12,0.14,0.16,0.18]}"
   ]
  },
  {
   "cell_type": "code",
   "execution_count": 63,
   "id": "89b9df16",
   "metadata": {},
   "outputs": [
    {
     "data": {
      "text/plain": [
       "{'ccp_alpha': 0.0,\n",
       " 'class_weight': None,\n",
       " 'criterion': 'gini',\n",
       " 'max_depth': None,\n",
       " 'max_features': None,\n",
       " 'max_leaf_nodes': None,\n",
       " 'min_impurity_decrease': 0.0,\n",
       " 'min_impurity_split': None,\n",
       " 'min_samples_leaf': 1,\n",
       " 'min_samples_split': 2,\n",
       " 'min_weight_fraction_leaf': 0.0,\n",
       " 'random_state': 1,\n",
       " 'splitter': 'best'}"
      ]
     },
     "execution_count": 63,
     "metadata": {},
     "output_type": "execute_result"
    }
   ],
   "source": [
    "dt.get_params()"
   ]
  },
  {
   "cell_type": "markdown",
   "id": "9aa81948",
   "metadata": {},
   "source": [
    "## Search for the optimal tree\n",
    "We'll perform grid search using 5-fold cross validation to find dt's optimal hyperparameters. Note that because grid search is an exhaustive process, it may take a lot time to train the model. "
   ]
  },
  {
   "cell_type": "code",
   "execution_count": 53,
   "id": "8fa7549a",
   "metadata": {},
   "outputs": [],
   "source": [
    "# Import GridSearchCV\n",
    "from sklearn.model_selection import GridSearchCV\n",
    "\n",
    "# Instantiate grid_dt\n",
    "grid_dt = GridSearchCV(estimator=dt,\n",
    "                       param_grid=params_dt,\n",
    "                       scoring='roc_auc',\n",
    "                       cv=5,\n",
    "                       n_jobs=-1)"
   ]
  },
  {
   "cell_type": "code",
   "execution_count": null,
   "id": "81d64408",
   "metadata": {},
   "outputs": [],
   "source": []
  },
  {
   "cell_type": "code",
   "execution_count": 55,
   "id": "d57fc466",
   "metadata": {},
   "outputs": [
    {
     "data": {
      "text/plain": [
       "GridSearchCV(cv=5, estimator=DecisionTreeClassifier(random_state=1), n_jobs=-1,\n",
       "             param_grid={'max_depth': [2, 3, 4],\n",
       "                         'min_samples_leaf': [0.12, 0.14, 0.16, 0.18]},\n",
       "             scoring='roc_auc')"
      ]
     },
     "execution_count": 55,
     "metadata": {},
     "output_type": "execute_result"
    }
   ],
   "source": [
    "grid_dt.fit(X_train, y_train)"
   ]
  },
  {
   "cell_type": "markdown",
   "id": "bfab569b",
   "metadata": {},
   "source": [
    "## Evaluating the optimal tree\n",
    "We'll evaluate the test set ROC AUC score of grid_dt's optimal model.\n",
    "\n",
    "In order to do so, we will first determine the probability of obtaining the positive label for each test set observation. We can use the method predict_proba() of an sklearn classifier to compute a 2D array containing the probabilities of the negative and positive class-labels respectively along columns."
   ]
  },
  {
   "cell_type": "code",
   "execution_count": 56,
   "id": "ae621b6c",
   "metadata": {},
   "outputs": [
    {
     "name": "stdout",
     "output_type": "stream",
     "text": [
      "Test set ROC AUC score: 0.681\n"
     ]
    }
   ],
   "source": [
    "# Import roc_auc_score from sklearn.metrics \n",
    "from sklearn.metrics import roc_auc_score\n",
    "\n",
    "# Extract the best estimator\n",
    "best_model = grid_dt.best_estimator_\n",
    "\n",
    "# Predict the test set probabilities of the positive class\n",
    "y_pred_proba = best_model.predict_proba(X_test)[:,1]\n",
    "\n",
    "# Compute test_roc_auc\n",
    "test_roc_auc = roc_auc_score(y_test, y_pred_proba)\n",
    "\n",
    "# Print test_roc_auc\n",
    "print('Test set ROC AUC score: {:.3f}'.format(test_roc_auc))"
   ]
  },
  {
   "cell_type": "markdown",
   "id": "16396e97",
   "metadata": {},
   "source": [
    "# 2)Tuning RF hyperparameter"
   ]
  },
  {
   "cell_type": "markdown",
   "id": "4bd824d1",
   "metadata": {},
   "source": [
    "#### importing data"
   ]
  },
  {
   "cell_type": "code",
   "execution_count": 68,
   "id": "3cb8c4da",
   "metadata": {},
   "outputs": [],
   "source": [
    "data = pd.read_csv('bikes.csv')"
   ]
  },
  {
   "cell_type": "code",
   "execution_count": 69,
   "id": "9e480180",
   "metadata": {},
   "outputs": [
    {
     "data": {
      "text/html": [
       "<div>\n",
       "<style scoped>\n",
       "    .dataframe tbody tr th:only-of-type {\n",
       "        vertical-align: middle;\n",
       "    }\n",
       "\n",
       "    .dataframe tbody tr th {\n",
       "        vertical-align: top;\n",
       "    }\n",
       "\n",
       "    .dataframe thead th {\n",
       "        text-align: right;\n",
       "    }\n",
       "</style>\n",
       "<table border=\"1\" class=\"dataframe\">\n",
       "  <thead>\n",
       "    <tr style=\"text-align: right;\">\n",
       "      <th></th>\n",
       "      <th>hr</th>\n",
       "      <th>holiday</th>\n",
       "      <th>workingday</th>\n",
       "      <th>temp</th>\n",
       "      <th>hum</th>\n",
       "      <th>windspeed</th>\n",
       "      <th>cnt</th>\n",
       "      <th>instant</th>\n",
       "      <th>mnth</th>\n",
       "      <th>yr</th>\n",
       "      <th>Clear to partly cloudy</th>\n",
       "      <th>Light Precipitation</th>\n",
       "      <th>Misty</th>\n",
       "    </tr>\n",
       "  </thead>\n",
       "  <tbody>\n",
       "    <tr>\n",
       "      <th>0</th>\n",
       "      <td>0</td>\n",
       "      <td>0</td>\n",
       "      <td>0</td>\n",
       "      <td>0.76</td>\n",
       "      <td>0.66</td>\n",
       "      <td>0.0000</td>\n",
       "      <td>149</td>\n",
       "      <td>13004</td>\n",
       "      <td>7</td>\n",
       "      <td>1</td>\n",
       "      <td>1</td>\n",
       "      <td>0</td>\n",
       "      <td>0</td>\n",
       "    </tr>\n",
       "    <tr>\n",
       "      <th>1</th>\n",
       "      <td>1</td>\n",
       "      <td>0</td>\n",
       "      <td>0</td>\n",
       "      <td>0.74</td>\n",
       "      <td>0.70</td>\n",
       "      <td>0.1343</td>\n",
       "      <td>93</td>\n",
       "      <td>13005</td>\n",
       "      <td>7</td>\n",
       "      <td>1</td>\n",
       "      <td>1</td>\n",
       "      <td>0</td>\n",
       "      <td>0</td>\n",
       "    </tr>\n",
       "    <tr>\n",
       "      <th>2</th>\n",
       "      <td>2</td>\n",
       "      <td>0</td>\n",
       "      <td>0</td>\n",
       "      <td>0.72</td>\n",
       "      <td>0.74</td>\n",
       "      <td>0.0896</td>\n",
       "      <td>90</td>\n",
       "      <td>13006</td>\n",
       "      <td>7</td>\n",
       "      <td>1</td>\n",
       "      <td>1</td>\n",
       "      <td>0</td>\n",
       "      <td>0</td>\n",
       "    </tr>\n",
       "    <tr>\n",
       "      <th>3</th>\n",
       "      <td>3</td>\n",
       "      <td>0</td>\n",
       "      <td>0</td>\n",
       "      <td>0.72</td>\n",
       "      <td>0.84</td>\n",
       "      <td>0.1343</td>\n",
       "      <td>33</td>\n",
       "      <td>13007</td>\n",
       "      <td>7</td>\n",
       "      <td>1</td>\n",
       "      <td>1</td>\n",
       "      <td>0</td>\n",
       "      <td>0</td>\n",
       "    </tr>\n",
       "    <tr>\n",
       "      <th>4</th>\n",
       "      <td>4</td>\n",
       "      <td>0</td>\n",
       "      <td>0</td>\n",
       "      <td>0.70</td>\n",
       "      <td>0.79</td>\n",
       "      <td>0.1940</td>\n",
       "      <td>4</td>\n",
       "      <td>13008</td>\n",
       "      <td>7</td>\n",
       "      <td>1</td>\n",
       "      <td>1</td>\n",
       "      <td>0</td>\n",
       "      <td>0</td>\n",
       "    </tr>\n",
       "    <tr>\n",
       "      <th>...</th>\n",
       "      <td>...</td>\n",
       "      <td>...</td>\n",
       "      <td>...</td>\n",
       "      <td>...</td>\n",
       "      <td>...</td>\n",
       "      <td>...</td>\n",
       "      <td>...</td>\n",
       "      <td>...</td>\n",
       "      <td>...</td>\n",
       "      <td>...</td>\n",
       "      <td>...</td>\n",
       "      <td>...</td>\n",
       "      <td>...</td>\n",
       "    </tr>\n",
       "    <tr>\n",
       "      <th>1483</th>\n",
       "      <td>19</td>\n",
       "      <td>0</td>\n",
       "      <td>1</td>\n",
       "      <td>0.80</td>\n",
       "      <td>0.49</td>\n",
       "      <td>0.1343</td>\n",
       "      <td>452</td>\n",
       "      <td>14487</td>\n",
       "      <td>8</td>\n",
       "      <td>1</td>\n",
       "      <td>1</td>\n",
       "      <td>0</td>\n",
       "      <td>0</td>\n",
       "    </tr>\n",
       "    <tr>\n",
       "      <th>1484</th>\n",
       "      <td>20</td>\n",
       "      <td>0</td>\n",
       "      <td>1</td>\n",
       "      <td>0.80</td>\n",
       "      <td>0.49</td>\n",
       "      <td>0.1343</td>\n",
       "      <td>356</td>\n",
       "      <td>14488</td>\n",
       "      <td>8</td>\n",
       "      <td>1</td>\n",
       "      <td>1</td>\n",
       "      <td>0</td>\n",
       "      <td>0</td>\n",
       "    </tr>\n",
       "    <tr>\n",
       "      <th>1485</th>\n",
       "      <td>21</td>\n",
       "      <td>0</td>\n",
       "      <td>1</td>\n",
       "      <td>0.76</td>\n",
       "      <td>0.58</td>\n",
       "      <td>0.1940</td>\n",
       "      <td>303</td>\n",
       "      <td>14489</td>\n",
       "      <td>8</td>\n",
       "      <td>1</td>\n",
       "      <td>1</td>\n",
       "      <td>0</td>\n",
       "      <td>0</td>\n",
       "    </tr>\n",
       "    <tr>\n",
       "      <th>1486</th>\n",
       "      <td>22</td>\n",
       "      <td>0</td>\n",
       "      <td>1</td>\n",
       "      <td>0.76</td>\n",
       "      <td>0.58</td>\n",
       "      <td>0.1940</td>\n",
       "      <td>277</td>\n",
       "      <td>14490</td>\n",
       "      <td>8</td>\n",
       "      <td>1</td>\n",
       "      <td>1</td>\n",
       "      <td>0</td>\n",
       "      <td>0</td>\n",
       "    </tr>\n",
       "    <tr>\n",
       "      <th>1487</th>\n",
       "      <td>23</td>\n",
       "      <td>0</td>\n",
       "      <td>1</td>\n",
       "      <td>0.74</td>\n",
       "      <td>0.62</td>\n",
       "      <td>0.1045</td>\n",
       "      <td>174</td>\n",
       "      <td>14491</td>\n",
       "      <td>8</td>\n",
       "      <td>1</td>\n",
       "      <td>1</td>\n",
       "      <td>0</td>\n",
       "      <td>0</td>\n",
       "    </tr>\n",
       "  </tbody>\n",
       "</table>\n",
       "<p>1488 rows × 13 columns</p>\n",
       "</div>"
      ],
      "text/plain": [
       "      hr  holiday  workingday  temp   hum  windspeed  cnt  instant  mnth  yr  \\\n",
       "0      0        0           0  0.76  0.66     0.0000  149    13004     7   1   \n",
       "1      1        0           0  0.74  0.70     0.1343   93    13005     7   1   \n",
       "2      2        0           0  0.72  0.74     0.0896   90    13006     7   1   \n",
       "3      3        0           0  0.72  0.84     0.1343   33    13007     7   1   \n",
       "4      4        0           0  0.70  0.79     0.1940    4    13008     7   1   \n",
       "...   ..      ...         ...   ...   ...        ...  ...      ...   ...  ..   \n",
       "1483  19        0           1  0.80  0.49     0.1343  452    14487     8   1   \n",
       "1484  20        0           1  0.80  0.49     0.1343  356    14488     8   1   \n",
       "1485  21        0           1  0.76  0.58     0.1940  303    14489     8   1   \n",
       "1486  22        0           1  0.76  0.58     0.1940  277    14490     8   1   \n",
       "1487  23        0           1  0.74  0.62     0.1045  174    14491     8   1   \n",
       "\n",
       "      Clear to partly cloudy  Light Precipitation  Misty  \n",
       "0                          1                    0      0  \n",
       "1                          1                    0      0  \n",
       "2                          1                    0      0  \n",
       "3                          1                    0      0  \n",
       "4                          1                    0      0  \n",
       "...                      ...                  ...    ...  \n",
       "1483                       1                    0      0  \n",
       "1484                       1                    0      0  \n",
       "1485                       1                    0      0  \n",
       "1486                       1                    0      0  \n",
       "1487                       1                    0      0  \n",
       "\n",
       "[1488 rows x 13 columns]"
      ]
     },
     "execution_count": 69,
     "metadata": {},
     "output_type": "execute_result"
    }
   ],
   "source": [
    "data"
   ]
  },
  {
   "cell_type": "code",
   "execution_count": 70,
   "id": "772ff94f",
   "metadata": {},
   "outputs": [
    {
     "data": {
      "text/plain": [
       "(1488, 13)"
      ]
     },
     "execution_count": 70,
     "metadata": {},
     "output_type": "execute_result"
    }
   ],
   "source": [
    "data.shape"
   ]
  },
  {
   "cell_type": "markdown",
   "id": "7ce39c46",
   "metadata": {},
   "source": [
    "#### SELECTING INDEPENDENT VARIABLES AND DEPENDENT VARIABLE"
   ]
  },
  {
   "cell_type": "code",
   "execution_count": 71,
   "id": "573ab69d",
   "metadata": {},
   "outputs": [],
   "source": [
    "X=data.drop('cnt',axis=1)\n",
    "y=data['cnt']"
   ]
  },
  {
   "cell_type": "code",
   "execution_count": 72,
   "id": "8ec07251",
   "metadata": {},
   "outputs": [],
   "source": [
    "from sklearn.model_selection import train_test_split\n",
    "\n",
    "X_train,X_test,y_train,y_test = train_test_split(X,y,test_size=0.2,random_state=10)"
   ]
  },
  {
   "cell_type": "code",
   "execution_count": 73,
   "id": "4fa05145",
   "metadata": {},
   "outputs": [
    {
     "data": {
      "text/plain": [
       "(298, 12)"
      ]
     },
     "execution_count": 73,
     "metadata": {},
     "output_type": "execute_result"
    }
   ],
   "source": [
    "X_test.shape"
   ]
  },
  {
   "cell_type": "markdown",
   "id": "264be4f2",
   "metadata": {},
   "source": [
    "#### Model"
   ]
  },
  {
   "cell_type": "code",
   "execution_count": 66,
   "id": "12e9454d",
   "metadata": {},
   "outputs": [],
   "source": [
    "# Import RandomForestRegressor \n",
    "from sklearn.ensemble import RandomForestRegressor\n",
    "# Set seed for reproducibility\n",
    "SEED = 1\n",
    "# Instantiate a random forests regressor 'rf' \n",
    "rf = RandomForestRegressor(random_state= SEED)\n"
   ]
  },
  {
   "cell_type": "code",
   "execution_count": 64,
   "id": "147a999f",
   "metadata": {},
   "outputs": [],
   "source": [
    "# Define the dictionary 'params_rf'\n",
    "params_rf = {'n_estimators':[100,350,500],'max_features':['log2','auto','sqrt'],'min_samples_leaf':[2,10,30]}"
   ]
  },
  {
   "cell_type": "code",
   "execution_count": 67,
   "id": "f06ae870",
   "metadata": {},
   "outputs": [],
   "source": [
    "# Import GridSearchCV\n",
    "from sklearn.model_selection import  GridSearchCV\n",
    "\n",
    "# Instantiate grid_rf\n",
    "grid_rf = GridSearchCV(estimator=rf,\n",
    "                       param_grid=params_rf,\n",
    "                       scoring='neg_mean_squared_error',\n",
    "                       cv=3,\n",
    "                       verbose=1,\n",
    "                       n_jobs=-1)"
   ]
  },
  {
   "cell_type": "code",
   "execution_count": 75,
   "id": "db5dafec",
   "metadata": {},
   "outputs": [
    {
     "name": "stdout",
     "output_type": "stream",
     "text": [
      "Fitting 3 folds for each of 27 candidates, totalling 81 fits\n"
     ]
    },
    {
     "data": {
      "text/plain": [
       "GridSearchCV(cv=3, estimator=RandomForestRegressor(random_state=1), n_jobs=-1,\n",
       "             param_grid={'max_features': ['log2', 'auto', 'sqrt'],\n",
       "                         'min_samples_leaf': [2, 10, 30],\n",
       "                         'n_estimators': [100, 350, 500]},\n",
       "             scoring='neg_mean_squared_error', verbose=1)"
      ]
     },
     "execution_count": 75,
     "metadata": {},
     "output_type": "execute_result"
    }
   ],
   "source": [
    "grid_rf.fit(X_train,y_train)"
   ]
  },
  {
   "cell_type": "code",
   "execution_count": 76,
   "id": "b9e3bffc",
   "metadata": {},
   "outputs": [
    {
     "name": "stdout",
     "output_type": "stream",
     "text": [
      "Test RMSE of best model: 49.405\n"
     ]
    }
   ],
   "source": [
    "# Import mean_squared_error from sklearn.metrics as MSE \n",
    "from sklearn.metrics import mean_squared_error as MSE\n",
    "\n",
    "# Extract the best estimator\n",
    "best_model = grid_rf.best_estimator_\n",
    "\n",
    "# Predict test set labels\n",
    "y_pred = best_model.predict(X_test)\n",
    "\n",
    "# Compute rmse_test\n",
    "rmse_test = MSE(y_test, y_pred)**(1/2)\n",
    "\n",
    "# Print rmse_test\n",
    "print('Test RMSE of best model: {:.3f}'.format(rmse_test))"
   ]
  },
  {
   "cell_type": "code",
   "execution_count": null,
   "id": "8d43e64e",
   "metadata": {},
   "outputs": [],
   "source": []
  }
 ],
 "metadata": {
  "kernelspec": {
   "display_name": "Python 3",
   "language": "python",
   "name": "python3"
  },
  "language_info": {
   "codemirror_mode": {
    "name": "ipython",
    "version": 3
   },
   "file_extension": ".py",
   "mimetype": "text/x-python",
   "name": "python",
   "nbconvert_exporter": "python",
   "pygments_lexer": "ipython3",
   "version": "3.6.9"
  }
 },
 "nbformat": 4,
 "nbformat_minor": 5
}
